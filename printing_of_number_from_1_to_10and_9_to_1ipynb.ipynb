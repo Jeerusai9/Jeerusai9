{
  "nbformat": 4,
  "nbformat_minor": 0,
  "metadata": {
    "colab": {
      "name": "printing of number from 1 to 10and 9 to 1ipynb",
      "provenance": [],
      "authorship_tag": "ABX9TyMs5e3q2qFtAZ1ZzZSKl5wG",
      "include_colab_link": true
    },
    "kernelspec": {
      "name": "python3",
      "display_name": "Python 3"
    },
    "language_info": {
      "name": "python"
    }
  },
  "cells": [
    {
      "cell_type": "markdown",
      "metadata": {
        "id": "view-in-github",
        "colab_type": "text"
      },
      "source": [
        "<a href=\"https://colab.research.google.com/github/Jeerusai9/Jeerusai9/blob/main/printing_of_number_from_1_to_10and_9_to_1ipynb.ipynb\" target=\"_parent\"><img src=\"https://colab.research.google.com/assets/colab-badge.svg\" alt=\"Open In Colab\"/></a>"
      ]
    },
    {
      "cell_type": "code",
      "execution_count": 1,
      "metadata": {
        "colab": {
          "base_uri": "https://localhost:8080/"
        },
        "id": "BjBvJet_2xkK",
        "outputId": "be323166-c464-4430-fc87-c69031798f33"
      },
      "outputs": [
        {
          "output_type": "stream",
          "name": "stdout",
          "text": [
            "100\n",
            "1 2 3 4 5 6 7 8 9 10 11 12 13 14 15 16 17 18 19 20 21 22 23 24 25 26 27 28 29 30 31 32 33 34 35 36 37 38 39 40 41 42 43 44 45 46 47 48 49 50 51 52 53 54 55 56 57 58 59 60 61 62 63 64 65 66 67 68 69 70 71 72 73 74 75 76 77 78 79 80 81 82 83 84 85 86 87 88 89 90 91 92 93 94 95 96 97 98 99 100 99 98 97 96 95 94 93 92 91 90 89 88 87 86 85 84 83 82 81 80 79 78 77 76 75 74 73 72 71 70 69 68 67 66 65 64 63 62 61 60 59 58 57 56 55 54 53 52 51 50 49 48 47 46 45 44 43 42 41 40 39 38 37 36 35 34 33 32 31 30 29 28 27 26 25 24 23 22 21 20 19 18 17 16 15 14 13 12 11 10 9 8 7 6 5 4 3 2 1 "
          ]
        }
      ],
      "source": [
        "num=int(input())#5\n",
        "for i in range(1,2*num):#1 2 3 4 5 6 7 8 9 \n",
        "    if i<=num:#9<=5\n",
        "        print(i,end=' ')\n",
        "    else:\n",
        "        num-=1\n",
        "        print(num,end=\" \")\n",
        "        "
      ]
    },
    {
      "cell_type": "code",
      "source": [
        "num=int(input())\n",
        "n=num\n",
        "i=1\n",
        "while n:\n",
        "  if i<num:\n",
        "    print(num,i,num*i)\n",
        "  else:\n",
        "    print(num,n,num*n)\n",
        "    n-=1\n",
        "  i+=1 "
      ],
      "metadata": {
        "colab": {
          "base_uri": "https://localhost:8080/"
        },
        "id": "AL3cgOUC3Sg7",
        "outputId": "8f192c35-1e49-4159-c834-ae9b36aa83b5"
      },
      "execution_count": 3,
      "outputs": [
        {
          "output_type": "stream",
          "name": "stdout",
          "text": [
            "5\n",
            "5 1 5\n",
            "5 2 10\n",
            "5 3 15\n",
            "5 4 20\n",
            "5 5 25\n",
            "5 4 20\n",
            "5 3 15\n",
            "5 2 10\n",
            "5 1 5\n"
          ]
        }
      ]
    }
  ]
}