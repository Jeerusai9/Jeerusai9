{
  "nbformat": 4,
  "nbformat_minor": 0,
  "metadata": {
    "colab": {
      "name": "Copy of avg of 3 no.s.phy",
      "provenance": [],
      "collapsed_sections": [],
      "authorship_tag": "ABX9TyOBrNeiCtLht2eKizaHkq2/",
      "include_colab_link": true
    },
    "kernelspec": {
      "name": "python3",
      "display_name": "Python 3"
    },
    "language_info": {
      "name": "python"
    }
  },
  "cells": [
    {
      "cell_type": "markdown",
      "metadata": {
        "id": "view-in-github",
        "colab_type": "text"
      },
      "source": [
        "<a href=\"https://colab.research.google.com/github/Jeerusai9/Jeerusai9/blob/main/Copy_of_avg_of_3_no_s_phy.ipynb\" target=\"_parent\"><img src=\"https://colab.research.google.com/assets/colab-badge.svg\" alt=\"Open In Colab\"/></a>"
      ]
    },
    {
      "cell_type": "code",
      "metadata": {
        "id": "mRiw9uBp4haa"
      },
      "source": [
        ""
      ],
      "execution_count": null,
      "outputs": []
    },
    {
      "cell_type": "code",
      "metadata": {
        "colab": {
          "base_uri": "https://localhost:8080/"
        },
        "id": "L4lq0Ppt1T4x",
        "outputId": "ae483db3-34c6-456e-d6de-e585c8b5c5df"
      },
      "source": [
        "a=int(input('enter 1st number:'));\n",
        "b=int(input('enter 2nd number:'));\n",
        "c=int(input('enter 3rd number:'));\n",
        "total=a+b+c;\n",
        "average=(total/3);\n",
        "print('total:', total);\n",
        "print('average:',average);"
      ],
      "execution_count": null,
      "outputs": [
        {
          "output_type": "stream",
          "name": "stdout",
          "text": [
            "enter 1st number:25\n",
            "enter 2nd number:20\n",
            "enter 3rd number:30\n",
            "total: 75\n",
            "average: 25.0\n"
          ]
        }
      ]
    }
  ]
}